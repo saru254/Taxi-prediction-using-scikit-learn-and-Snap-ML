{
 "cells": [
  {
   "cell_type": "markdown",
   "id": "d1ff8886",
   "metadata": {
    "_cell_guid": "b1076dfc-b9ad-4769-8c92-a6c4dae69d19",
    "_uuid": "8f2839f25d086af736a60e9eeb907d3b93b6e0e5",
    "papermill": {
     "duration": 0.002268,
     "end_time": "2024-01-24T11:23:35.949842",
     "exception": false,
     "start_time": "2024-01-24T11:23:35.947574",
     "status": "completed"
    },
    "tags": []
   },
   "source": [
    "**The dataset includes information about taxi tip and was collected and provided to the NYC Taxi and Limousine Commission (TLC) by technology providers authorized under the Taxicab and livery passenger enhancement programs (TPEP/LPEP)**"
   ]
  },
  {
   "cell_type": "markdown",
   "id": "4b1e651f",
   "metadata": {
    "papermill": {
     "duration": 0.001544,
     "end_time": "2024-01-24T11:23:35.953513",
     "exception": false,
     "start_time": "2024-01-24T11:23:35.951969",
     "status": "completed"
    },
    "tags": []
   },
   "source": [
    "# **Objectives**\n",
    "**After completing this lab you will be able to:**\n",
    "*  Perfom basic data preprocessing using scikit-learn\n",
    "* Model a regression task using the scikit-learn and snap ML python APIs\n",
    "* Train a Decision Tree Regressor model using scikit-learn and snap ML\n",
    "* Run interference and assess the quality of the trained models"
   ]
  },
  {
   "cell_type": "markdown",
   "id": "ef8f8f88",
   "metadata": {
    "papermill": {
     "duration": 0.001627,
     "end_time": "2024-01-24T11:23:35.956930",
     "exception": false,
     "start_time": "2024-01-24T11:23:35.955303",
     "status": "completed"
    },
    "tags": []
   },
   "source": [
    "<div id=\"Introduction\">\n",
    "    <h2>Introduction</h2>\n",
    "    <br>The dataset used in this exercise session is publicly available here: https://www1.nyc.gov/site/tlc/about/tlc-trip-record-data.page (all rights reserved by Taxi & Limousine Commission(TLC), City of New York). The TLC Yellow Taxi Trip Records of June, 2019 are used in this notebook. The prediction of the tip amount can be modeled as a regression problem. To train the model you can use part of the input dataset and the remaining data can be used to assess the quality of the trained model. First, let's download the dataset.\n",
    "    <br>\n",
    "</div>\n"
   ]
  },
  {
   "cell_type": "code",
   "execution_count": 1,
   "id": "8d88f230",
   "metadata": {
    "execution": {
     "iopub.execute_input": "2024-01-24T11:23:35.962801Z",
     "iopub.status.busy": "2024-01-24T11:23:35.961781Z",
     "iopub.status.idle": "2024-01-24T11:23:48.947387Z",
     "shell.execute_reply": "2024-01-24T11:23:48.946012Z"
    },
    "papermill": {
     "duration": 12.992645,
     "end_time": "2024-01-24T11:23:48.951322",
     "exception": false,
     "start_time": "2024-01-24T11:23:35.958677",
     "status": "completed"
    },
    "tags": []
   },
   "outputs": [
    {
     "name": "stdout",
     "output_type": "stream",
     "text": [
      "--2024-01-24 11:23:36--  https://cf-courses-data.s3.us.cloud-object-storage.appdomain.cloud/IBMDeveloperSkillsNetwork-ML0101EN-SkillsNetwork/labs/Module%203/data/yellow_tripdata_2019-06.csv\r\n",
      "Resolving cf-courses-data.s3.us.cloud-object-storage.appdomain.cloud (cf-courses-data.s3.us.cloud-object-storage.appdomain.cloud)... 169.63.118.104\r\n",
      "Connecting to cf-courses-data.s3.us.cloud-object-storage.appdomain.cloud (cf-courses-data.s3.us.cloud-object-storage.appdomain.cloud)|169.63.118.104|:443... connected.\r\n",
      "HTTP request sent, awaiting response... 200 OK\r\n",
      "Length: 364904448 (348M) [text/csv]\r\n",
      "Saving to: 'yellow_tripdata_2019-06.csv'\r\n",
      "\r\n",
      "yellow_tripdata_201 100%[===================>] 348.00M  32.3MB/s    in 12s     \r\n",
      "\r\n",
      "2024-01-24 11:23:48 (30.2 MB/s) - 'yellow_tripdata_2019-06.csv' saved [364904448/364904448]\r\n",
      "\r\n"
     ]
    }
   ],
   "source": [
    "# download June 2020 TLC Yellow Taxi Trip records\n",
    "!wget -nc https://cf-courses-data.s3.us.cloud-object-storage.appdomain.cloud/IBMDeveloperSkillsNetwork-ML0101EN-SkillsNetwork/labs/Module%203/data/yellow_tripdata_2019-06.csv "
   ]
  }
 ],
 "metadata": {
  "kaggle": {
   "accelerator": "none",
   "dataSources": [],
   "dockerImageVersionId": 30635,
   "isGpuEnabled": false,
   "isInternetEnabled": true,
   "language": "python",
   "sourceType": "notebook"
  },
  "kernelspec": {
   "display_name": "Python 3",
   "language": "python",
   "name": "python3"
  },
  "language_info": {
   "codemirror_mode": {
    "name": "ipython",
    "version": 3
   },
   "file_extension": ".py",
   "mimetype": "text/x-python",
   "name": "python",
   "nbconvert_exporter": "python",
   "pygments_lexer": "ipython3",
   "version": "3.10.12"
  },
  "papermill": {
   "default_parameters": {},
   "duration": 16.586359,
   "end_time": "2024-01-24T11:23:49.379521",
   "environment_variables": {},
   "exception": null,
   "input_path": "__notebook__.ipynb",
   "output_path": "__notebook__.ipynb",
   "parameters": {},
   "start_time": "2024-01-24T11:23:32.793162",
   "version": "2.4.0"
  }
 },
 "nbformat": 4,
 "nbformat_minor": 5
}
